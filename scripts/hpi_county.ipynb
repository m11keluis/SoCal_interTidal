{
 "cells": [
  {
   "cell_type": "code",
   "execution_count": null,
   "id": "initial_id",
   "metadata": {
    "collapsed": true
   },
   "outputs": [],
   "source": [
    "# Annual Housing Price Index by County "
   ]
  },
  {
   "cell_type": "code",
   "execution_count": null,
   "outputs": [],
   "source": [
    "# Load Modules\n",
    "import pandas as pd"
   ],
   "metadata": {
    "collapsed": false
   },
   "id": "7fe3b5494033f417"
  },
  {
   "cell_type": "code",
   "execution_count": 9,
   "outputs": [],
   "source": [
    "# Load Excel File\n",
    "hpi_county = pd.read_excel(\"/Users/kluis/PycharmProjects/tahoe_sst/hpi_at_county.xlsx\", skiprows=5)\n",
    "\n",
    "# Filter by California\n",
    "hpi_ca = hpi_county[hpi_county.State == 'CA'] \n"
   ],
   "metadata": {
    "collapsed": false,
    "ExecuteTime": {
     "end_time": "2025-06-26T21:57:27.996666Z",
     "start_time": "2025-06-26T21:57:15.430561Z"
    }
   },
   "id": "1a7213ed96c4c585"
  },
  {
   "cell_type": "code",
   "execution_count": 15,
   "outputs": [],
   "source": [
    "# Filter by Counties of Interest\n",
    "county_list = ['Los Angeles', 'Santa Barbara', 'San Diego', 'Orange']\n",
    "hpi_exp = hpi_ca[hpi_ca['County'].isin(county_list)]"
   ],
   "metadata": {
    "collapsed": false,
    "ExecuteTime": {
     "end_time": "2025-06-26T22:02:36.450634Z",
     "start_time": "2025-06-26T22:02:36.437159Z"
    }
   },
   "id": "f5ed02b40c0ab087"
  },
  {
   "cell_type": "code",
   "execution_count": 16,
   "outputs": [
    {
     "data": {
      "text/plain": "     State         County  FIPS code  Year  Annual Change (%)      HPI  \\\n6216    CA    Los Angeles       6037  1975                NaN   100.00   \n6217    CA    Los Angeles       6037  1976              20.96   120.96   \n6218    CA    Los Angeles       6037  1977              23.02   148.80   \n6219    CA    Los Angeles       6037  1978              19.99   178.55   \n6220    CA    Los Angeles       6037  1979              18.10   210.87   \n...    ...            ...        ...   ...                ...      ...   \n7373    CA  Santa Barbara       6083  2020               1.77  1663.19   \n7374    CA  Santa Barbara       6083  2021              12.07  1863.90   \n7375    CA  Santa Barbara       6083  2022              19.42  2225.94   \n7376    CA  Santa Barbara       6083  2023               6.96  2380.88   \n7377    CA  Santa Barbara       6083  2024               5.87  2520.53   \n\n      HPI with 1990 base  HPI with 2000 base  \n6216               17.19               16.91  \n6217               20.79               20.45  \n6218               25.58               25.16  \n6219               30.69               30.19  \n6220               36.25               35.66  \n...                  ...                 ...  \n7373              266.21              211.39  \n7374              298.34              236.90  \n7375              356.29              282.91  \n7376              381.09              302.61  \n7377              403.44              320.36  \n\n[200 rows x 8 columns]",
      "text/html": "<div>\n<style scoped>\n    .dataframe tbody tr th:only-of-type {\n        vertical-align: middle;\n    }\n\n    .dataframe tbody tr th {\n        vertical-align: top;\n    }\n\n    .dataframe thead th {\n        text-align: right;\n    }\n</style>\n<table border=\"1\" class=\"dataframe\">\n  <thead>\n    <tr style=\"text-align: right;\">\n      <th></th>\n      <th>State</th>\n      <th>County</th>\n      <th>FIPS code</th>\n      <th>Year</th>\n      <th>Annual Change (%)</th>\n      <th>HPI</th>\n      <th>HPI with 1990 base</th>\n      <th>HPI with 2000 base</th>\n    </tr>\n  </thead>\n  <tbody>\n    <tr>\n      <th>6216</th>\n      <td>CA</td>\n      <td>Los Angeles</td>\n      <td>6037</td>\n      <td>1975</td>\n      <td>NaN</td>\n      <td>100.00</td>\n      <td>17.19</td>\n      <td>16.91</td>\n    </tr>\n    <tr>\n      <th>6217</th>\n      <td>CA</td>\n      <td>Los Angeles</td>\n      <td>6037</td>\n      <td>1976</td>\n      <td>20.96</td>\n      <td>120.96</td>\n      <td>20.79</td>\n      <td>20.45</td>\n    </tr>\n    <tr>\n      <th>6218</th>\n      <td>CA</td>\n      <td>Los Angeles</td>\n      <td>6037</td>\n      <td>1977</td>\n      <td>23.02</td>\n      <td>148.80</td>\n      <td>25.58</td>\n      <td>25.16</td>\n    </tr>\n    <tr>\n      <th>6219</th>\n      <td>CA</td>\n      <td>Los Angeles</td>\n      <td>6037</td>\n      <td>1978</td>\n      <td>19.99</td>\n      <td>178.55</td>\n      <td>30.69</td>\n      <td>30.19</td>\n    </tr>\n    <tr>\n      <th>6220</th>\n      <td>CA</td>\n      <td>Los Angeles</td>\n      <td>6037</td>\n      <td>1979</td>\n      <td>18.10</td>\n      <td>210.87</td>\n      <td>36.25</td>\n      <td>35.66</td>\n    </tr>\n    <tr>\n      <th>...</th>\n      <td>...</td>\n      <td>...</td>\n      <td>...</td>\n      <td>...</td>\n      <td>...</td>\n      <td>...</td>\n      <td>...</td>\n      <td>...</td>\n    </tr>\n    <tr>\n      <th>7373</th>\n      <td>CA</td>\n      <td>Santa Barbara</td>\n      <td>6083</td>\n      <td>2020</td>\n      <td>1.77</td>\n      <td>1663.19</td>\n      <td>266.21</td>\n      <td>211.39</td>\n    </tr>\n    <tr>\n      <th>7374</th>\n      <td>CA</td>\n      <td>Santa Barbara</td>\n      <td>6083</td>\n      <td>2021</td>\n      <td>12.07</td>\n      <td>1863.90</td>\n      <td>298.34</td>\n      <td>236.90</td>\n    </tr>\n    <tr>\n      <th>7375</th>\n      <td>CA</td>\n      <td>Santa Barbara</td>\n      <td>6083</td>\n      <td>2022</td>\n      <td>19.42</td>\n      <td>2225.94</td>\n      <td>356.29</td>\n      <td>282.91</td>\n    </tr>\n    <tr>\n      <th>7376</th>\n      <td>CA</td>\n      <td>Santa Barbara</td>\n      <td>6083</td>\n      <td>2023</td>\n      <td>6.96</td>\n      <td>2380.88</td>\n      <td>381.09</td>\n      <td>302.61</td>\n    </tr>\n    <tr>\n      <th>7377</th>\n      <td>CA</td>\n      <td>Santa Barbara</td>\n      <td>6083</td>\n      <td>2024</td>\n      <td>5.87</td>\n      <td>2520.53</td>\n      <td>403.44</td>\n      <td>320.36</td>\n    </tr>\n  </tbody>\n</table>\n<p>200 rows × 8 columns</p>\n</div>"
     },
     "execution_count": 16,
     "metadata": {},
     "output_type": "execute_result"
    }
   ],
   "source": [
    "hpi_exp"
   ],
   "metadata": {
    "collapsed": false,
    "ExecuteTime": {
     "end_time": "2025-06-26T22:03:00.336521Z",
     "start_time": "2025-06-26T22:03:00.317182Z"
    }
   },
   "id": "efa4d34bf0a40cb3"
  }
 ],
 "metadata": {
  "kernelspec": {
   "display_name": "Python 3",
   "language": "python",
   "name": "python3"
  },
  "language_info": {
   "codemirror_mode": {
    "name": "ipython",
    "version": 2
   },
   "file_extension": ".py",
   "mimetype": "text/x-python",
   "name": "python",
   "nbconvert_exporter": "python",
   "pygments_lexer": "ipython2",
   "version": "2.7.6"
  }
 },
 "nbformat": 4,
 "nbformat_minor": 5
}
